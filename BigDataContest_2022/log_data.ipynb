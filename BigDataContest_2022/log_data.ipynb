{
 "cells": [
  {
   "cell_type": "code",
   "execution_count": 1,
   "id": "e4addff9",
   "metadata": {},
   "outputs": [],
   "source": [
    "import numpy as np \n",
    "import pandas as pd\n",
    "\n",
    "log_data = pd.read_csv(\"..\\\\..\\\\data\\\\log_data.csv\")"
   ]
  },
  {
   "cell_type": "code",
   "execution_count": 3,
   "id": "57c4f14e",
   "metadata": {},
   "outputs": [],
   "source": [
    "# 특정 이벤트 cnt 변수를 만들려면 해당 변수일 때에 해당하는 변수를 만들고 (1/0)\n",
    "# 중요 변수 => 대출 신청과 연관이 있을 것으로 생각되는 변수\n",
    "important_event = [\"StartLoanApply\" , \"CompleteIDCertification\", \"EndLoanApply\", \"UsePrepayCalc\", \"UseDSRCalc\", \"GetCreditinfo\", \"UseLoanManage\"]\n",
    "\n",
    "for eve in important_event :\n",
    "    log_data[eve] = log_data[\"event\"].apply(lambda x : 1 if x == eve else 0)\n",
    "    log_data[eve] = log_data[eve].astype(\"int16\")"
   ]
  },
  {
   "cell_type": "code",
   "execution_count": null,
   "id": "3caf1174",
   "metadata": {},
   "outputs": [],
   "source": [
    "log_data.to_csv(\"..\\\\..\\\\data\\\\log_data_derived.csv\", index = False)"
   ]
  }
 ],
 "metadata": {
  "kernelspec": {
   "display_name": "Python 3 (ipykernel)",
   "language": "python",
   "name": "python3"
  },
  "language_info": {
   "codemirror_mode": {
    "name": "ipython",
    "version": 3
   },
   "file_extension": ".py",
   "mimetype": "text/x-python",
   "name": "python",
   "nbconvert_exporter": "python",
   "pygments_lexer": "ipython3",
   "version": "3.10.4"
  },
  "toc": {
   "base_numbering": 1,
   "nav_menu": {},
   "number_sections": true,
   "sideBar": true,
   "skip_h1_title": false,
   "title_cell": "Table of Contents",
   "title_sidebar": "Contents",
   "toc_cell": false,
   "toc_position": {},
   "toc_section_display": true,
   "toc_window_display": false
  }
 },
 "nbformat": 4,
 "nbformat_minor": 5
}
