{
 "cells": [
  {
   "cell_type": "code",
   "execution_count": 1,
   "id": "fca0bd11",
   "metadata": {},
   "outputs": [
    {
     "data": {
      "text/html": [
       "        <script type=\"text/javascript\">\n",
       "        window.PlotlyConfig = {MathJaxConfig: 'local'};\n",
       "        if (window.MathJax && window.MathJax.Hub && window.MathJax.Hub.Config) {window.MathJax.Hub.Config({SVG: {font: \"STIX-Web\"}});}\n",
       "        if (typeof require !== 'undefined') {\n",
       "        require.undef(\"plotly\");\n",
       "        requirejs.config({\n",
       "            paths: {\n",
       "                'plotly': ['https://cdn.plot.ly/plotly-2.14.0.min']\n",
       "            }\n",
       "        });\n",
       "        require(['plotly'], function(Plotly) {\n",
       "            window._Plotly = Plotly;\n",
       "        });\n",
       "        }\n",
       "        </script>\n",
       "        "
      ]
     },
     "metadata": {},
     "output_type": "display_data"
    }
   ],
   "source": [
    "import os\n",
    "import numpy as np\n",
    "import pandas as pd\n",
    "import sklearn \n",
    "\n",
    "from glob import glob\n",
    "\n",
    "# vis \n",
    "import matplotlib.pyplot as plt\n",
    "import matplotlib \n",
    "import seaborn as sns\n",
    "import plotly.express as px\n",
    "from plotly.offline import init_notebook_mode, iplot\n",
    "init_notebook_mode(connected=True)\n",
    "\n",
    "import warnings\n",
    "warnings.filterwarnings(\"ignore\")\n",
    "\n",
    "from sklearn.experimental import enable_iterative_imputer\n",
    "from sklearn.impute import IterativeImputer \n",
    "from sklearn.linear_model import LinearRegression\n",
    "from sklearn import metrics\n",
    "from sklearn.ensemble import RandomForestClassifier\n",
    "from sklearn.model_selection import train_test_split\n",
    "\n",
    "from category_encoders import OrdinalEncoder\n",
    "\n",
    "# modeling\n",
    "import pandas as pd \n",
    "import numpy as np \n",
    "\n",
    "from sklearn.model_selection import KFold\n",
    "from tqdm import tnrange, tqdm_notebook\n",
    "\n",
    "import optuna\n",
    "from optuna.samplers import TPESampler\n",
    "\n",
    "import lightgbm as lgb\n",
    "from lightgbm import LGBMRegressor, LGBMClassifier\n",
    "\n",
    "from sklearn.metrics import accuracy_score, auc, f1_score, roc_curve, classification_report"
   ]
  },
  {
   "cell_type": "code",
   "execution_count": 2,
   "id": "eca8381d",
   "metadata": {},
   "outputs": [],
   "source": [
    "X_smote_ = pd.read_csv(\"..\\\\..\\\\data\\\\X_smote.csv\")\n",
    "y_smote_ = pd.read_csv(\"..\\\\..\\\\data\\\\y_smote.csv\")\n",
    "# X_train = pd.read_csv(\"..\\\\..\\\\data\\\\X_train.csv\")\n",
    "# y_train = pd.read_csv(\"..\\\\..\\\\data\\\\y_train.csv\")\n",
    "X_val_ = pd.read_csv(\"..\\\\..\\\\data\\\\X_val.csv\")\n",
    "y_val_ = pd.read_csv(\"..\\\\..\\\\data\\\\y_val.csv\")\n",
    "X_test = pd.read_csv(\"..\\\\..\\\\data\\\\X_test.csv\")\n",
    "y_test = pd.read_csv(\"..\\\\..\\\\data\\\\y_test.csv\")"
   ]
  },
  {
   "cell_type": "code",
   "execution_count": 3,
   "id": "13062ada",
   "metadata": {},
   "outputs": [],
   "source": [
    "X_smote = X_smote_.copy()\n",
    "y_smote = y_smote_.copy()\n",
    "X_val = X_val_.copy()\n",
    "y_val = y_val_.copy()"
   ]
  },
  {
   "cell_type": "code",
   "execution_count": 5,
   "id": "c2c1d41d",
   "metadata": {},
   "outputs": [],
   "source": [
    "# X_smote.to_csv(\"..\\\\..\\\\data\\\\X_smote.csv, index = False\")\n",
    "# y_smote.to_csv(\"..\\\\..\\\\data\\\\y_smote.csv, index = False\")\n",
    "# X_train.to_csv(\"..\\\\..\\\\data\\\\X_train.csv, index = False\")\n",
    "# y_train.to_csv(\"..\\\\..\\\\data\\\\y_train.csv, index = False\")\n",
    "# X_val.to_csv(\"..\\\\..\\\\data\\\\X_val.csv, index = False\")\n",
    "# y_val.to_csv(\"..\\\\..\\\\data\\\\y_val.csv, index = False\")\n",
    "# X_test.to_csv(\"..\\\\..\\\\data\\\\X_test.csv, index = False\")\n",
    "# y_test.to_csv(\"..\\\\..\\\\data\\\\y_test.csv, index = False\")\n",
    "\n",
    "# feature selection by importance of lgbm model\n",
    "important_var = [\"credit_score\", \"loan_rate\", \"desired_amount\", \"age_group\", \"existing_loan_cnt\", \n",
    "                 \"loan_limit\", \"credit_score_cat\", \"gender\", \"income_type\", \"purpose\", \"day\", \"yearly_income\", \"product_id_cat\", \n",
    "                \"existing_loan_amt\", \"employment_type\", \"total_income\", \"bank_id_cat\", \"GetCreditinfo\", \"houseown_type\",\n",
    "                 \"EndLoanApply\", \"company_year\"]\n",
    "\n",
    "X_smote = X_smote[important_var]\n",
    "# X_train = X_train[important_var]\n",
    "X_val = X_val[important_var]\n",
    "X_test = X_test[important_var]"
   ]
  },
  {
   "cell_type": "code",
   "execution_count": 6,
   "id": "b8207f7f",
   "metadata": {},
   "outputs": [],
   "source": [
    "# 10% 만 stratify 하게 뽑아서 hyperparameter tuning\n",
    "seed = 0\n",
    "\n",
    "X_smote, X_smote_temp, y_smote, y_smote_temp = train_test_split(X_smote, y_smote, test_size = 0.9, random_state = seed,\n",
    "                                                               stratify = y_smote)"
   ]
  },
  {
   "cell_type": "markdown",
   "id": "c34cf38a",
   "metadata": {},
   "source": [
    "# Optuna 간단 설명 \n",
    "- suggest_int : 범위 내의 정수형 값 선택\n",
    "- suggest_categorical : list 내의 데이터 중 선택 \n",
    "- suggest_uniform : 범위 내의 균일 분포를 값으로 선택 \n",
    "- suggest_discrete_uniform : 범위 내의 이산 균등 분포 \n",
    "- suggest_loguniform : 범위 내의 로그 함수 선상의 값을 선택"
   ]
  },
  {
   "cell_type": "code",
   "execution_count": null,
   "id": "b0777028",
   "metadata": {
    "scrolled": true
   },
   "outputs": [
    {
     "name": "stderr",
     "output_type": "stream",
     "text": [
      "\u001b[32m[I 2022-10-12 01:50:34,454]\u001b[0m A new study created in memory with name: lgb_parameter_opt\u001b[0m\n",
      "\u001b[32m[I 2022-10-12 02:13:21,153]\u001b[0m Trial 0 finished with value: 0.8742235680635828 and parameters: {'boosting_type': 'dart', 'learning_rate': 0.44030778031031004, 'n_estimators': 530, 'max_depth': 28, 'num_leaves': 162, 'reg_alpha': 0.38178611895252984, 'reg_lambda': 0.5536690972721715, 'subsample': 0.5595879976748785, 'subsample_freq': 30, 'colsample_bytree': 0.4086346398917182, 'min_child_samples': 42, 'max_bin': 94}. Best is trial 0 with value: 0.8742235680635828.\u001b[0m\n"
     ]
    },
    {
     "name": "stdout",
     "output_type": "stream",
     "text": [
      "acc : 0.9411314262221135, auc : 0.8742235680635828\n"
     ]
    },
    {
     "name": "stderr",
     "output_type": "stream",
     "text": [
      "\u001b[32m[I 2022-10-12 02:15:50,003]\u001b[0m Trial 1 finished with value: 0.8654963302987893 and parameters: {'boosting_type': 'gbdt', 'learning_rate': 0.40990351865408514, 'n_estimators': 900, 'max_depth': 95, 'num_leaves': 19, 'reg_alpha': 0.7246835502168786, 'reg_lambda': 0.4316354766004855, 'subsample': 0.45643534067832225, 'subsample_freq': 29, 'colsample_bytree': 0.5829106469746432, 'min_child_samples': 50, 'max_bin': 65}. Best is trial 0 with value: 0.8742235680635828.\u001b[0m\n"
     ]
    },
    {
     "name": "stdout",
     "output_type": "stream",
     "text": [
      "acc : 0.9380041093528207, auc : 0.8654963302987893\n"
     ]
    },
    {
     "name": "stderr",
     "output_type": "stream",
     "text": [
      "\u001b[32m[I 2022-10-12 02:17:14,020]\u001b[0m Trial 2 finished with value: 0.8729966606989565 and parameters: {'boosting_type': 'gbdt', 'learning_rate': 0.20985522224051004, 'n_estimators': 370, 'max_depth': 7, 'num_leaves': 219, 'reg_alpha': 0.6104856594601022, 'reg_lambda': 0.16308935882944667, 'subsample': 0.5935948392863147, 'subsample_freq': 20, 'colsample_bytree': 0.31389958593253964, 'min_child_samples': 19, 'max_bin': 80}. Best is trial 0 with value: 0.8742235680635828.\u001b[0m\n"
     ]
    },
    {
     "name": "stdout",
     "output_type": "stream",
     "text": [
      "acc : 0.940577082515376, auc : 0.8729966606989565\n"
     ]
    }
   ],
   "source": [
    "# def NMAE(true, pred):\n",
    "#     score = np.mean(np.abs(true-pred) / true)\n",
    "#     return score\n",
    "# def objective()\n",
    "score_fpr = []\n",
    "score_tpr = []\n",
    "score_thresholds = []\n",
    "\n",
    "def lgb_optimization(trial):\n",
    "    score_acc = []\n",
    "    score_auc = []\n",
    "    \n",
    "#     kf = KFold(n_splits = 5 , random_state = 42 , shuffle = True)\n",
    "#     for train_fold, test_fold in tqdm_notebook(kf.split(trainset, Y), desc = 'k_fold'):\n",
    "#         X_train, X_test, y_train, y_test = trainset.iloc[train_fold], trainset.iloc[test_fold], Y[train_fold], Y[test_fold] \n",
    "        \n",
    "        \n",
    "        # Parameter 범위는 처음에는 넓게, 이후 조금씩 줄여나가는 것을 추천 # \n",
    "\n",
    "    params = {            \n",
    "        \"boosting_type\" : trial.suggest_categorical('boosting_type',['dart', 'gbdt']),\n",
    "        \"objective\": \"binary\",\n",
    "        # \"objective\": \"cross_entropy\",\n",
    "        \"metric\": \"auc\",\n",
    "        \"learning_rate\": trial.suggest_uniform('learning_rate', 0.2, 0.99),\n",
    "        \"n_estimators\": trial.suggest_int(\"n_estimators\", 300, 1000, step=10),\n",
    "        \"max_depth\": trial.suggest_int(\"max_depth\", 1, 100),\n",
    "        \"num_leaves\": trial.suggest_int(\"num_leaves\", 2, 256),\n",
    "        \"reg_alpha\": trial.suggest_float(\"reg_alpha\", 1e-3, 1), # regularization\n",
    "        \"reg_lambda\": trial.suggest_float(\"reg_lambda\", 1e-3, 1), # regularization\n",
    "        \"subsample\": trial.suggest_float(\"subsample\", 0.4, 1.0),\n",
    "        \"subsample_freq\": trial.suggest_int(\"subsample_freq\", 1, 30),\n",
    "        \"colsample_bytree\": trial.suggest_float(\"colsample_bytree\", 0.1, 1.0),\n",
    "        \"min_child_samples\": trial.suggest_int(\"min_child_samples\", 5, 50),\n",
    "        \"max_bin\": trial.suggest_int(\"max_bin\", 50, 100),\n",
    "        \"verbosity\": -1,\n",
    "        \"random_state\": 0\n",
    "    }\n",
    "\n",
    "    model = LGBMClassifier(**params)\n",
    "    model.fit(X_smote, y_smote)\n",
    "    \n",
    "    lgb_cv_pred = model.predict(X_val)\n",
    "    lgb_cv_pred_proba = model.predict_proba(X_val)[:, 1] # probability 예측\n",
    "    # score_cv = NMAE(y_val, lgb_cv_pred) #ex) accuracy_score(y_test , lgb_cv_pred)\n",
    "    score_cv_acc = accuracy_score(y_val, lgb_cv_pred)\n",
    "    fpr, tpr, thresholds = roc_curve(y_val, lgb_cv_pred_proba, pos_label = 1)\n",
    "    score_cv_auc = auc(fpr, tpr)\n",
    "    \n",
    "    score_fpr.append(fpr)\n",
    "    score_tpr.append(tpr)\n",
    "    score_thresholds.append(thresholds)\n",
    "    score_acc.append(score_cv_acc) # 이 경우 5fold 총 평균 mse 최소화하는 방향으로 설정/ 요건 본인이 선택.. 1fold씩 할건       지 전체(5fold) 다 해서 평균낸거 최소/최대화할지는 자유  \n",
    "    score_auc.append(score_cv_auc)\n",
    "    \n",
    "    print(f\"acc : {score_cv_acc}, auc : {score_cv_auc}\")\n",
    "    \n",
    "    return np.mean(score_auc)\n",
    "\n",
    "\n",
    "\n",
    "# sampler = TPESampler(seed=42)\n",
    "optim = optuna.create_study(\n",
    "    study_name=\"lgb_parameter_opt\",\n",
    "    direction=\"maximize\", #example)) mse = 'minimize' , acc = 'maximize'\n",
    "    # sampler=sampler,\n",
    ")\n",
    "\n",
    "# n_trials : parameter tuning 횟수\n",
    "optim.optimize(lgb_optimization, n_trials=30)\n",
    "print(\"Best:\", optim.best_value)"
   ]
  },
  {
   "cell_type": "code",
   "execution_count": null,
   "id": "a98c93ce",
   "metadata": {},
   "outputs": [],
   "source": [
    "# 최적의 파라미터\n",
    "optim.best_trial.params"
   ]
  },
  {
   "cell_type": "code",
   "execution_count": null,
   "id": "95439697",
   "metadata": {},
   "outputs": [],
   "source": []
  }
 ],
 "metadata": {
  "kernelspec": {
   "display_name": "Python 3 (ipykernel)",
   "language": "python",
   "name": "python3"
  },
  "language_info": {
   "codemirror_mode": {
    "name": "ipython",
    "version": 3
   },
   "file_extension": ".py",
   "mimetype": "text/x-python",
   "name": "python",
   "nbconvert_exporter": "python",
   "pygments_lexer": "ipython3",
   "version": "3.10.4"
  },
  "toc": {
   "base_numbering": 1,
   "nav_menu": {},
   "number_sections": true,
   "sideBar": true,
   "skip_h1_title": false,
   "title_cell": "Table of Contents",
   "title_sidebar": "Contents",
   "toc_cell": false,
   "toc_position": {},
   "toc_section_display": true,
   "toc_window_display": false
  }
 },
 "nbformat": 4,
 "nbformat_minor": 5
}
